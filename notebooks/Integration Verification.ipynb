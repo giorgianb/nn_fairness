{
 "cells": [
  {
   "cell_type": "markdown",
   "id": "610a7de8",
   "metadata": {},
   "source": [
    "# Integration Verification\n",
    "We use this notebook to verify that the integration and intersection is working properly."
   ]
  },
  {
   "cell_type": "code",
   "execution_count": 1,
   "id": "1c2cabd2",
   "metadata": {},
   "outputs": [
    {
     "name": "stdout",
     "output_type": "stream",
     "text": [
      "/home/giorgian/Documente/Cercetare/Fairness/nn_fairness\n"
     ]
    }
   ],
   "source": [
    "%cd /home/giorgian/Documente/Cercetare/Fairness/nn_fairness"
   ]
  },
  {
   "cell_type": "code",
   "execution_count": 4,
   "id": "31a380f9",
   "metadata": {},
   "outputs": [],
   "source": [
    "from quad import integrate\n",
    "from nnenum.lpinstance import LpInstance\n",
    "import pickle\n",
    "import numpy as np\n",
    "from itertools import product\n",
    "import matplotlib.pyplot as plt\n",
    "from polytope import Polytope, reduce\n",
    "from compute_volume import dd_extreme\n",
    "import compute_volume as cv\n",
    "import swiglpk as glpk\n",
    "import glpk_util\n",
    "from scipy.integrate import quad"
   ]
  },
  {
   "cell_type": "code",
   "execution_count": 5,
   "id": "296f0b3c",
   "metadata": {},
   "outputs": [],
   "source": [
    "def create_lpi(A, b):\n",
    "    lpi = LpInstance()\n",
    "    lpi.add_cols([str(i) for i in range(A.shape[1])])\n",
    "    for row, rhs in zip(A, b):\n",
    "        lpi.add_dense_row(row, rhs)\n",
    "    return lpi\n",
    "\n",
    "def create_plot_2d(A, b, x_bounds=(0, 2), y_bounds=(0, 2), num=50, n_ticks=11):\n",
    "    \n",
    "    X, Y = np.meshgrid(np.linspace(*x_bounds, num=num), np.linspace(*y_bounds, num=num), indexing='xy')\n",
    "    C = np.stack([X, Y], axis=-1)\n",
    "    inner = np.all(np.einsum('ij,abj->abi', A, C) <= b, axis=-1)\n",
    "    fig, axes = plt.subplots()\n",
    "    ret = axes.imshow(inner, origin='lower')\n",
    "    # Setting tick locations\n",
    "    x_ticks = np.linspace(0, num, n_ticks)\n",
    "    y_ticks = np.linspace(0, num, n_ticks)\n",
    "\n",
    "    # Setting tick labels\n",
    "    x_labels = map(lambda x: str(round(x, 2)), np.linspace(*x_bounds, n_ticks))\n",
    "    y_labels = map(lambda x: str(round(x, 2)), np.linspace(*y_bounds, n_ticks))\n",
    "\n",
    "    axes.set_xticks(x_ticks)\n",
    "    axes.set_yticks(y_ticks)\n",
    "\n",
    "    axes.set_xticklabels(x_labels)\n",
    "    axes.set_yticklabels(y_labels)\n",
    "    \n",
    "    return ret\n",
    "\n",
    "def compute_intersection_lpi(lpi1, lpi2):\n",
    "    \"\"\"compute the intersection between two lpis\"\"\"\n",
    "\n",
    "    # sanity checks\n",
    "    assert lpi1.get_num_cols() == lpi2.get_num_cols()\n",
    "\n",
    "    cols = lpi1.get_num_cols()\n",
    "\n",
    "    assert np.allclose(lpi1._get_col_bounds(), lpi2._get_col_bounds())\n",
    "\n",
    "    rv = LpInstance(lpi1)\n",
    "    # add constraints of lpi 2 to rv\n",
    "\n",
    "    rhs = lpi2.get_rhs()\n",
    "    mat = lpi2.get_constraints_csr().toarray()\n",
    "\n",
    "    for row, val in zip(mat, rhs):\n",
    "        rv.add_dense_row(row, val)\n",
    "\n",
    "    return rv\n",
    "\n",
    "def quad_integrate_polytope(A, b, func_to_integrate=None):\n",
    "    \"\"\"use scipy.quad to integrate a function over a polytope domain\n",
    "\n",
    "    params are the leq constraints Ax <= b\n",
    "\n",
    "    if func_to_integrate is None, assumes function is 1 everywhere (returns volume)\n",
    "    \"\"\"\n",
    "\n",
    "    lp = glpk_util.from_constraints(A, b)\n",
    "    #print(glpk_util.to_str(lp))\n",
    "\n",
    "    rv = quad_integrate_glpk_lp(lp, func_to_integrate)\n",
    "\n",
    "    glpk.glp_delete_prob(lp)\n",
    "\n",
    "    return rv\n",
    "\n",
    "\n",
    "def quad_integrate_glpk_lp(glpk_lp_instance, func_to_integrate=None):\n",
    "    \"\"\"use scipy.quad to integrate a function over a polytope domain\n",
    "\n",
    "    takes in polytope as a gplk lp instance\n",
    "\n",
    "    if func_to_integrate is None, assumes function is 1 everywhere (returns volume)\n",
    "    \"\"\"\n",
    "\n",
    "    if func_to_integrate is None:\n",
    "        func_to_integrate = lambda *args: 1\n",
    "\n",
    "    integrator = LpIntegrator(glpk_lp_instance)\n",
    "\n",
    "    def eval_func(x, *args):\n",
    "        \"\"\"evaluate the function\"\"\"\n",
    "\n",
    "        if len(args) + 1 < integrator.num_cols:\n",
    "            dim_lb, dim_ub = integrator.get_bounds(*args, x)\n",
    "\n",
    "            rv = quad(eval_func, dim_lb, dim_ub, args=(*args, x))[0]\n",
    "        else:\n",
    "            # base case: last dimension\n",
    "            rv = func_to_integrate(*args, x)\n",
    "\n",
    "        return rv\n",
    "\n",
    "    lb, ub = integrator.get_bounds()\n",
    "    rv = quad(eval_func, lb, ub)[0]\n",
    "\n",
    "    return rv\n",
    "\n",
    "class LpIntegrator:\n",
    "    \"\"\"an LP being integrated\"\"\"\n",
    "\n",
    "    def __init__(self, lp):\n",
    "\n",
    "        self.lp = lp\n",
    "        self.num_cols = glpk_util.get_num_cols(lp)\n",
    "\n",
    "    def get_bounds(self, *fixed_cols):\n",
    "        \"\"\"get bounds of the next column, given a list of fixed values for columns\"\"\"\n",
    "\n",
    "        lp = glpk.glp_create_prob()\n",
    "        glpk.glp_copy_prob(lp, self.lp, glpk.GLP_OFF)\n",
    "\n",
    "        # fix the variables\n",
    "        for i, val in enumerate(fixed_cols):\n",
    "            glpk.glp_set_col_bnds(lp, i + 1, glpk.GLP_FX, float(val), float(val))\n",
    "       \n",
    "        direction_vec = [0] * self.num_cols\n",
    "\n",
    "        cur_col = len(fixed_cols)\n",
    "        assert cur_col < self.num_cols, f\"get_bounds called with fixed_cols={fixed_cols}, but num_cols = {self.num_cols}\"\n",
    "\n",
    "        direction_vec[cur_col] = 1\n",
    "        glpk_util.set_minimize_direction(lp, direction_vec)\n",
    "\n",
    "        params = glpk_util.default_params()\n",
    "        simplex_res = glpk.glp_simplex(lp, params)\n",
    "        assert simplex_res == 0\n",
    "        lb = glpk.glp_get_col_prim(lp, int(1 + cur_col))\n",
    "\n",
    "        direction_vec[cur_col] = -1\n",
    "        glpk_util.set_minimize_direction(lp, direction_vec)\n",
    "\n",
    "        simplex_res = glpk.glp_simplex(lp, params)\n",
    "        assert simplex_res == 0\n",
    "        ub = glpk.glp_get_col_prim(lp, int(1 + cur_col))\n",
    "\n",
    "        glpk.glp_delete_prob(lp)\n",
    "\n",
    "        return lb, ub"
   ]
  },
  {
   "cell_type": "code",
   "execution_count": 6,
   "id": "30e56754",
   "metadata": {},
   "outputs": [],
   "source": [
    "class UniformPDF:\n",
    "    \n",
    "    def __init__(self, n):\n",
    "        self.n = n\n",
    "    def sample(self, *x):\n",
    "        return 1\n",
    "    \n",
    "    @property\n",
    "    def regions(self):\n",
    "        return [((0, 1),)*self.n]"
   ]
  },
  {
   "cell_type": "code",
   "execution_count": 7,
   "id": "bd4e65be",
   "metadata": {},
   "outputs": [],
   "source": [
    "class LinearPDF:\n",
    "    \n",
    "    def __init__(self, n, coeffs=None):\n",
    "        self.n = n\n",
    "        if coeffs is None:\n",
    "            self.coeffs = np.ones(n)\n",
    "        else:\n",
    "            self.coeffs = np.array(coeffs)\n",
    "    def sample(self, *x):\n",
    "        print(f'f({x})={np.dot(self.coeffs, np.array(x))}')\n",
    "        return np.dot(self.coeffs, np.array(x))\n",
    "    \n",
    "    @property\n",
    "    def regions(self):\n",
    "        return [((0, 1),)*self.n]"
   ]
  },
  {
   "cell_type": "markdown",
   "id": "ac597c29",
   "metadata": {},
   "source": [
    "## 2D Square\n",
    "We create a simple unit square with four corners"
   ]
  },
  {
   "cell_type": "code",
   "execution_count": 6,
   "id": "21fe4f8c",
   "metadata": {},
   "outputs": [],
   "source": [
    "# First test: simple square\n",
    "A = np.concatenate([-np.eye(2), np.eye(2)], axis=0)\n",
    "b = np.array([0, 0, 1, 1])\n",
    "lpi_1 = create_lpi(A, b, )\n",
    "pdf = UniformPDF(2)\n"
   ]
  },
  {
   "cell_type": "code",
   "execution_count": 7,
   "id": "ebd0fe31",
   "metadata": {},
   "outputs": [
    {
     "data": {
      "text/plain": [
       "<matplotlib.image.AxesImage at 0x7f6728d53f50>"
      ]
     },
     "execution_count": 7,
     "metadata": {},
     "output_type": "execute_result"
    },
    {
     "data": {
      "image/png": "[encoded data removed]",
      "text/plain": [
       "<Figure size 640x480 with 1 Axes>"
      ]
     },
     "metadata": {},
     "output_type": "display_data"
    }
   ],
   "source": [
    "create_plot_2d(A, b)"
   ]
  },
  {
   "cell_type": "code",
   "execution_count": 8,
   "id": "b1ed8723",
   "metadata": {},
   "outputs": [
    {
     "data": {
      "text/plain": [
       "1.0"
      ]
     },
     "execution_count": 8,
     "metadata": {},
     "output_type": "execute_result"
    }
   ],
   "source": [
    "integrate(lpi_1, pdf, {})"
   ]
  },
  {
   "cell_type": "markdown",
   "id": "fdd4d325",
   "metadata": {},
   "source": [
    "## Right Triangle"
   ]
  },
  {
   "cell_type": "code",
   "execution_count": 9,
   "id": "c791eaee",
   "metadata": {},
   "outputs": [
    {
     "data": {
      "text/plain": [
       "<matplotlib.image.AxesImage at 0x7f63f5633b90>"
      ]
     },
     "execution_count": 9,
     "metadata": {},
     "output_type": "execute_result"
    },
    {
     "data": {
      "image/png": "[encoded data removed]",
      "text/plain": [
       "<Figure size 640x480 with 1 Axes>"
      ]
     },
     "metadata": {},
     "output_type": "display_data"
    }
   ],
   "source": [
    "# First test: simple square\n",
    "A = np.concatenate([-np.eye(2), np.eye(2), np.array([[1, 1]])], axis=0)\n",
    "b = np.array([0, 0, 1, 1, 1])\n",
    "lpi_2 = create_lpi(A, b)\n",
    "pdf = UniformPDF(2)\n",
    "create_plot_2d(A, b, num=100)"
   ]
  },
  {
   "cell_type": "code",
   "execution_count": 10,
   "id": "26c1ca9b",
   "metadata": {},
   "outputs": [
    {
     "data": {
      "text/plain": [
       "0.4999999999999999"
      ]
     },
     "execution_count": 10,
     "metadata": {},
     "output_type": "execute_result"
    }
   ],
   "source": [
    "integrate(lpi_2, pdf, {})"
   ]
  },
  {
   "cell_type": "markdown",
   "id": "a396117f",
   "metadata": {},
   "source": [
    "## Intersection of Square and Right Triangle"
   ]
  },
  {
   "cell_type": "code",
   "execution_count": 25,
   "id": "7417fb0b",
   "metadata": {},
   "outputs": [
    {
     "data": {
      "text/plain": [
       "<matplotlib.image.AxesImage at 0x7f63f531c350>"
      ]
     },
     "execution_count": 25,
     "metadata": {},
     "output_type": "execute_result"
    },
    {
     "data": {
      "image/png": "[encoded data removed]",
      "text/plain": [
       "<Figure size 640x480 with 1 Axes>"
      ]
     },
     "metadata": {},
     "output_type": "display_data"
    }
   ],
   "source": [
    "lpi_3 = compute_intersection_lpi(lpi_1, lpi_2)\n",
    "A = lpi_3.get_constraints_csr().toarray()\n",
    "b = lpi_3.get_rhs()\n",
    "create_plot_2d(A, b)"
   ]
  },
  {
   "cell_type": "code",
   "execution_count": 13,
   "id": "96bbade2",
   "metadata": {},
   "outputs": [
    {
     "data": {
      "text/plain": [
       "0.4999999999999999"
      ]
     },
     "execution_count": 13,
     "metadata": {},
     "output_type": "execute_result"
    }
   ],
   "source": [
    "integrate(lpi_3, pdf, {})"
   ]
  },
  {
   "cell_type": "code",
   "execution_count": 14,
   "id": "71470fd3",
   "metadata": {},
   "outputs": [
    {
     "data": {
      "text/plain": [
       "<matplotlib.image.AxesImage at 0x7f63f56834d0>"
      ]
     },
     "execution_count": 14,
     "metadata": {},
     "output_type": "execute_result"
    },
    {
     "data": {
      "image/png": "[encoded data removed]",
      "text/plain": [
       "<Figure size 640x480 with 1 Axes>"
      ]
     },
     "metadata": {},
     "output_type": "display_data"
    }
   ],
   "source": [
    "# First test: simple square\n",
    "A = np.concatenate([-np.eye(2), np.eye(2), np.array([[1, -1]])], axis=0)\n",
    "b = np.array([0, 0, 1, 1, 0])\n",
    "lpi_4 = create_lpi(A, b)\n",
    "pdf = UniformPDF(2)\n",
    "create_plot_2d(A, b, num=100)"
   ]
  },
  {
   "cell_type": "code",
   "execution_count": 15,
   "id": "ab703a0d",
   "metadata": {},
   "outputs": [
    {
     "data": {
      "text/plain": [
       "0.5"
      ]
     },
     "execution_count": 15,
     "metadata": {},
     "output_type": "execute_result"
    }
   ],
   "source": [
    "integrate(lpi_4, pdf, {})"
   ]
  },
  {
   "cell_type": "code",
   "execution_count": 16,
   "id": "cd0aee71",
   "metadata": {
    "scrolled": false
   },
   "outputs": [
    {
     "data": {
      "text/plain": [
       "<matplotlib.image.AxesImage at 0x7f63f5589c10>"
      ]
     },
     "execution_count": 16,
     "metadata": {},
     "output_type": "execute_result"
    },
    {
     "data": {
      "image/png": "[encoded data removed]",
      "text/plain": [
       "<Figure size 640x480 with 1 Axes>"
      ]
     },
     "metadata": {},
     "output_type": "display_data"
    }
   ],
   "source": [
    "lpi_5 = compute_intersection_lpi(lpi_2, lpi_4)\n",
    "A = lpi_5.get_constraints_csr().toarray()\n",
    "b = lpi_5.get_rhs()\n",
    "create_plot_2d(A, b, num=100)"
   ]
  },
  {
   "cell_type": "code",
   "execution_count": 17,
   "id": "1a5a5eec",
   "metadata": {},
   "outputs": [
    {
     "data": {
      "text/plain": [
       "0.25"
      ]
     },
     "execution_count": 17,
     "metadata": {},
     "output_type": "execute_result"
    }
   ],
   "source": [
    "integrate(lpi_5, pdf, {})"
   ]
  },
  {
   "cell_type": "markdown",
   "id": "1fe64821",
   "metadata": {},
   "source": [
    "## Linear PDF"
   ]
  },
  {
   "cell_type": "code",
   "execution_count": 26,
   "id": "856b117a",
   "metadata": {},
   "outputs": [
    {
     "data": {
      "text/plain": [
       "<matplotlib.image.AxesImage at 0x7f63f51e4350>"
      ]
     },
     "execution_count": 26,
     "metadata": {},
     "output_type": "execute_result"
    },
    {
     "data": {
      "image/png": "[encoded data removed]",
      "text/plain": [
       "<Figure size 640x480 with 1 Axes>"
      ]
     },
     "metadata": {},
     "output_type": "display_data"
    }
   ],
   "source": [
    "# First test: simple square\n",
    "A = np.concatenate([-np.eye(2), np.eye(2)], axis=0)\n",
    "b = np.array([0, 0, 1, 1])\n",
    "lpi_1 = create_lpi(A, b, )\n",
    "pdf = LinearPDF(2)\n",
    "create_plot_2d(A, b)"
   ]
  },
  {
   "cell_type": "code",
   "execution_count": 24,
   "id": "b9905785",
   "metadata": {},
   "outputs": [
    {
     "name": "stdout",
     "output_type": "stream",
     "text": [
      "f((1.0, 1.0))=2.0\n",
      "f((1.0, 0.0))=1.0\n",
      "f((5.551115123125783e-17, 1.0))=1.0\n",
      "f((5.551115123125783e-17, 5.551115123125783e-17))=1.1102230246251565e-16\n"
     ]
    },
    {
     "data": {
      "text/plain": [
       "1.0"
      ]
     },
     "execution_count": 24,
     "metadata": {},
     "output_type": "execute_result"
    }
   ],
   "source": [
    "# Should give 1.0\n",
    "integrate(lpi_1, pdf, {})"
   ]
  },
  {
   "cell_type": "code",
   "execution_count": 29,
   "id": "2905fe28",
   "metadata": {},
   "outputs": [
    {
     "data": {
      "text/plain": [
       "<matplotlib.image.AxesImage at 0x7f63f54a78d0>"
      ]
     },
     "execution_count": 29,
     "metadata": {},
     "output_type": "execute_result"
    },
    {
     "data": {
      "image/png": "[encoded data removed]",
      "text/plain": [
       "<Figure size 640x480 with 1 Axes>"
      ]
     },
     "metadata": {},
     "output_type": "display_data"
    }
   ],
   "source": [
    "# First test: simple square\n",
    "A = np.concatenate([-np.eye(2), np.eye(2), np.array([[1, -1]])], axis=0)\n",
    "b = np.array([0, 0, 1, 1, 0])\n",
    "lpi_4 = create_lpi(A, b)\n",
    "pdf = LinearPDF(2)\n",
    "create_plot_2d(A, b, num=100)"
   ]
  },
  {
   "cell_type": "code",
   "execution_count": 36,
   "id": "29a2f15b",
   "metadata": {},
   "outputs": [
    {
     "name": "stdout",
     "output_type": "stream",
     "text": [
      "f((0.0, -1.1102230246251565e-16))=-1.1102230246251565e-16\n",
      "f((0.0, 1.0))=1.0\n",
      "f((1.0, 1.0))=2.0\n"
     ]
    },
    {
     "data": {
      "text/plain": [
       "0.49999999999999994"
      ]
     },
     "execution_count": 36,
     "metadata": {},
     "output_type": "execute_result"
    }
   ],
   "source": [
    "# Should give 1/2\n",
    "integrate(lpi_4, pdf, {})"
   ]
  },
  {
   "cell_type": "code",
   "execution_count": 31,
   "id": "62e3e6b4",
   "metadata": {},
   "outputs": [
    {
     "data": {
      "text/plain": [
       "<matplotlib.image.AxesImage at 0x7f63f5482190>"
      ]
     },
     "execution_count": 31,
     "metadata": {},
     "output_type": "execute_result"
    },
    {
     "data": {
      "image/png": "[encoded data removed]",
      "text/plain": [
       "<Figure size 640x480 with 1 Axes>"
      ]
     },
     "metadata": {},
     "output_type": "display_data"
    }
   ],
   "source": [
    "lpi_5 = compute_intersection_lpi(lpi_2, lpi_4)\n",
    "A = lpi_5.get_constraints_csr().toarray()\n",
    "b = lpi_5.get_rhs()\n",
    "create_plot_2d(A, b, num=100)"
   ]
  },
  {
   "cell_type": "code",
   "execution_count": 37,
   "id": "9eafe767",
   "metadata": {},
   "outputs": [
    {
     "name": "stdout",
     "output_type": "stream",
     "text": [
      "f((-2.7755575615628914e-17, 1.0000000000000002))=1.0000000000000002\n",
      "f((0.0, 0.0))=0.0\n",
      "f((0.5, 0.5))=1.0\n"
     ]
    },
    {
     "data": {
      "text/plain": [
       "0.16666666666666666"
      ]
     },
     "execution_count": 37,
     "metadata": {},
     "output_type": "execute_result"
    }
   ],
   "source": [
    "# Should give 1/8\n",
    "integrate(lpi_5, pdf, {})"
   ]
  },
  {
   "cell_type": "markdown",
   "id": "6e67f73d",
   "metadata": {},
   "source": [
    "## Integration of Power of a Linear Form over A Simplex"
   ]
  },
  {
   "cell_type": "markdown",
   "id": "680c6452",
   "metadata": {},
   "source": [
    "Based on [this paper](https://arxiv.org/abs/1108.0117), there is a simple formula for the integral of a polynomial of a linear form over a $d$-simplex. $s_1\\ldots s_{d+1}$ are the vertices of the $d$-simplex.\n",
    "\n",
    "$\\int_{\\Delta} \\langle \\ell, x\\rangle^M dm = d!\\text{vol}(\\Delta, dm)\\frac{M!}{(M+d)!}\\sum_{i=1}^{d+1} \\frac{\\langle \\ell, x\\rangle^{M+d}}{\\prod_{j\\neq i} \\langle \\ell, s_i - s_j\\rangle}$\n",
    "\n",
    "We can derive as a collary from the paper the following formula for the integral of a linear integration over a $d$-simplex:\n",
    "\n",
    "$\\int_{\\Delta} \\langle \\ell, x\\rangle^M dm = d!\\text{vol}(\\Delta, dm)e^{\\langle \\ell, x\\rangle}\\sum_{i=1}^{d+1} \\frac{1}{\\prod_{j\\neq i} \\langle \\ell, s_i - s_j\\rangle}$\n"
   ]
  },
  {
   "cell_type": "code",
   "execution_count": 83,
   "id": "206c3783",
   "metadata": {},
   "outputs": [],
   "source": [
    "from math import factorial as fac\n",
    "\n",
    "vertices = np.array([[0, 0],[0, 1], [1, 1]])\n",
    "vol = 0.5\n",
    "M = 2\n",
    "d = 2\n",
    "term = 0\n",
    "def f(x):\n",
    "    return sum(x)\n",
    "for i in range(len(vertices)):\n",
    "    prod = 1\n",
    "    for j in range(len(vertices)):\n",
    "        if i == j:\n",
    "            continue\n",
    "        prod *= f(vertices[i] - vertices[j])\n",
    "    term += f(vertices[i])**(M+d)/prod\n",
    "    \n"
   ]
  },
  {
   "cell_type": "code",
   "execution_count": 11,
   "id": "1dee74b7",
   "metadata": {},
   "outputs": [
    {
     "data": {
      "text/plain": [
       "0.5833333333333333"
      ]
     },
     "execution_count": 11,
     "metadata": {},
     "output_type": "execute_result"
    }
   ],
   "source": [
    "# Should be 7/12\n",
    "fac(d)*vol*fac(M)/fac(M + d) * term"
   ]
  },
  {
   "cell_type": "code",
   "execution_count": 12,
   "id": "d88d684e",
   "metadata": {},
   "outputs": [],
   "source": [
    "A = np.array([\n",
    "    [-1, 1],\n",
    "    [0, 1],\n",
    "    [3, 2],\n",
    "    [-1, 0],\n",
    "    [0, -1]\n",
    "])\n",
    "b = np.array([\n",
    "    2, 4, 15, 0, 0\n",
    "])\n",
    "p = reduce(Polytope(A, b))"
   ]
  },
  {
   "cell_type": "code",
   "execution_count": 21,
   "id": "e5ea8445",
   "metadata": {},
   "outputs": [
    {
     "data": {
      "text/plain": [
       "<module 'compute_volume' from '/home/giorgian/Documente/Cercetare/Fairness/nn_fairness/compute_volume.py'>"
      ]
     },
     "execution_count": 21,
     "metadata": {},
     "output_type": "execute_result"
    }
   ],
   "source": [
    "from importlib import reload\n",
    "reload(cv)"
   ]
  },
  {
   "cell_type": "code",
   "execution_count": 14,
   "id": "9657a036",
   "metadata": {},
   "outputs": [],
   "source": [
    "coeffs = np.random.uniform(size=(3, 2))\n",
    "P = np.arange(3)"
   ]
  },
  {
   "cell_type": "code",
   "execution_count": 18,
   "id": "a2f90c61",
   "metadata": {
    "scrolled": false
   },
   "outputs": [
    {
     "data": {
      "text/plain": [
       "(array([12.66667, 32.30612, 28.22196]),\n",
       " array([[2.     , 4.     ],\n",
       "        [0.     , 0.     ],\n",
       "        [0.     , 2.     ],\n",
       "        [5.     , 0.     ],\n",
       "        [2.33333, 4.     ]]))"
      ]
     },
     "execution_count": 18,
     "metadata": {},
     "output_type": "execute_result"
    }
   ],
   "source": [
    "cv.lawrence_integrate_linear_form(p, cv.dd_extreme, coeffs=coeffs, P=P)"
   ]
  },
  {
   "cell_type": "code",
   "execution_count": 17,
   "id": "dc455c6b",
   "metadata": {},
   "outputs": [
    {
     "data": {
      "text/plain": [
       "(32.30611856363544,\n",
       " array([[2.     , 4.     ],\n",
       "        [0.     , 0.     ],\n",
       "        [0.     , 2.     ],\n",
       "        [5.     , 0.     ],\n",
       "        [2.33333, 4.     ]]))"
      ]
     },
     "execution_count": 17,
     "metadata": {},
     "output_type": "execute_result"
    }
   ],
   "source": [
    "cv.lawrence_integrate_polytope_slow(p, cv.dd_extreme, coeffs=coeffs[1], P=P[1])"
   ]
  },
  {
   "cell_type": "code",
   "execution_count": 104,
   "id": "ba3144da",
   "metadata": {},
   "outputs": [
    {
     "data": {
      "text/plain": [
       "(34.905818069356656,\n",
       " array([[2.     , 4.     ],\n",
       "        [0.     , 0.     ],\n",
       "        [0.     , 2.     ],\n",
       "        [5.     , 0.     ],\n",
       "        [2.33333, 4.     ]]))"
      ]
     },
     "execution_count": 104,
     "metadata": {},
     "output_type": "execute_result"
    }
   ],
   "source": [
    "cv.lawrence_integrate_polytope_slow(p, cv.dd_extreme, coeffs=coeffs[2], P=P[2])"
   ]
  },
  {
   "cell_type": "code",
   "execution_count": 61,
   "id": "042dd068",
   "metadata": {},
   "outputs": [
    {
     "data": {
      "text/plain": [
       "<module 'compute_volume' from '/home/giorgian/Documente/Cercetare/Fairness/nn_fairness/compute_volume.py'>"
      ]
     },
     "execution_count": 61,
     "metadata": {},
     "output_type": "execute_result"
    }
   ],
   "source": [
    "from importlib import reload\n",
    "reload(cv)"
   ]
  },
  {
   "cell_type": "code",
   "execution_count": null,
   "id": "f0eb8220",
   "metadata": {},
   "outputs": [],
   "source": []
  },
  {
   "cell_type": "code",
   "execution_count": 43,
   "id": "f3e16263",
   "metadata": {},
   "outputs": [
    {
     "data": {
      "text/plain": [
       "(array([12.66667, 32.30612, 28.22196]),\n",
       " array([[2.     , 4.     ],\n",
       "        [0.     , 0.     ],\n",
       "        [0.     , 2.     ],\n",
       "        [5.     , 0.     ],\n",
       "        [2.33333, 4.     ]]))"
      ]
     },
     "execution_count": 43,
     "metadata": {},
     "output_type": "execute_result"
    }
   ],
   "source": [
    "cv.lawrence_integrate_linear_form(p, cv.dd_extreme, coeffs=coeffs, P=P)"
   ]
  },
  {
   "cell_type": "code",
   "execution_count": 62,
   "id": "443d915a",
   "metadata": {},
   "outputs": [],
   "source": [
    "A = np.array([\n",
    "    [0, 1],\n",
    "    [0, -1],\n",
    "    [1, 0],\n",
    "    [-1, 0]\n",
    "])\n",
    "b = np.array([\n",
    "    1, 0, 1, 0\n",
    "])\n",
    "p = reduce(Polytope(A, b))"
   ]
  },
  {
   "cell_type": "code",
   "execution_count": 79,
   "id": "aa74a762",
   "metadata": {},
   "outputs": [
    {
     "data": {
      "image/png": "[encoded data removed]",
      "text/plain": [
       "<Figure size 640x480 with 1 Axes>"
      ]
     },
     "metadata": {},
     "output_type": "display_data"
    }
   ],
   "source": [
    "# First test: simple square\n",
    "A = np.concatenate([-np.eye(2), np.eye(2), np.array([[1, -1]])], axis=0)\n",
    "b = np.array([0, 0, 1, 1, 0])\n",
    "create_plot_2d(A, b, num=100)\n",
    "p = reduce(Polytope(A, b))"
   ]
  },
  {
   "cell_type": "code",
   "execution_count": 81,
   "id": "b7921cf2",
   "metadata": {},
   "outputs": [],
   "source": [
    "coeffs = np.array([[1, 1], [1, 1+2j], [-3+2j, 4-8j]])"
   ]
  },
  {
   "cell_type": "code",
   "execution_count": 82,
   "id": "c9fabd1b",
   "metadata": {},
   "outputs": [
    {
     "data": {
      "text/plain": [
       "(array([1.47625+0.j     , 0.09853+1.35162j, 1.75817-0.12018j]),\n",
       " array([[1., 1.],\n",
       "        [0., 1.],\n",
       "        [0., 0.]]))"
      ]
     },
     "execution_count": 82,
     "metadata": {},
     "output_type": "execute_result"
    }
   ],
   "source": [
    "cv.lawrence_integrate_linear_exp(p, cv.dd_extreme, coeffs=coeffs)"
   ]
  },
  {
   "cell_type": "code",
   "execution_count": null,
   "id": "a78600cf",
   "metadata": {},
   "outputs": [],
   "source": [
    "np.einsum('cij,vjk'->)"
   ]
  },
  {
   "cell_type": "code",
   "execution_count": null,
   "id": "e50bc123",
   "metadata": {},
   "outputs": [],
   "source": [
    "#c_B @ np.linalg.inv(A_B) @ A_N)\n",
    "# c_B: (3, 5, 5) (coeff, vertex, f)\n",
    "# c_N (3, 5, 2)\n",
    "# A_B: (5, 5, 5) (vertex, f, f)\n",
    "# A_N (5, 5, 2)"
   ]
  },
  {
   "cell_type": "code",
   "execution_count": 34,
   "id": "48020d11",
   "metadata": {},
   "outputs": [
    {
     "name": "stdout",
     "output_type": "stream",
     "text": [
      "c.shape=(4, 7) c_N.shape=(4, 5, 2) c_B.shape=(4, 5, 5)\n",
      "A_B.shape=(5, 5, 5) A_N.shape=(5, 5, 2)\n"
     ]
    },
    {
     "ename": "ValueError",
     "evalue": "operands could not be broadcast together with remapped shapes [original->remapped]: (4,5,5)->(4,newaxis,newaxis) (5,5,5)->(5,newaxis,newaxis)  and requested shape (5,5)",
     "output_type": "error",
     "traceback": [
      "\u001b[0;31m---------------------------------------------------------------------------\u001b[0m",
      "\u001b[0;31mValueError\u001b[0m                                Traceback (most recent call last)",
      "Cell \u001b[0;32mIn[34], line 1\u001b[0m\n\u001b[0;32m----> 1\u001b[0m \u001b[43mcv\u001b[49m\u001b[38;5;241;43m.\u001b[39;49m\u001b[43mlawrence_integrate_polytope\u001b[49m\u001b[43m(\u001b[49m\u001b[43mp\u001b[49m\u001b[43m,\u001b[49m\u001b[43m \u001b[49m\u001b[43mcv\u001b[49m\u001b[38;5;241;43m.\u001b[39;49m\u001b[43mdd_extreme\u001b[49m\u001b[43m,\u001b[49m\u001b[43m \u001b[49m\u001b[43mcoeffs\u001b[49m\u001b[38;5;241;43m=\u001b[39;49m\u001b[43mcoeffs\u001b[49m\u001b[43m,\u001b[49m\u001b[43m \u001b[49m\u001b[43mP\u001b[49m\u001b[38;5;241;43m=\u001b[39;49m\u001b[43mP\u001b[49m\u001b[43m)\u001b[49m[\u001b[38;5;241m0\u001b[39m]\n",
      "File \u001b[0;32m~/Documente/Cercetare/Fairness/nn_fairness/compute_volume.py:196\u001b[0m, in \u001b[0;36mlawrence_integrate_polytope\u001b[0;34m(poly, extreme, coeffs, P)\u001b[0m\n\u001b[1;32m    193\u001b[0m \u001b[38;5;28mprint\u001b[39m(\u001b[38;5;124mf\u001b[39m\u001b[38;5;124m'\u001b[39m\u001b[38;5;132;01m{\u001b[39;00mA_B\u001b[38;5;241m.\u001b[39mshape\u001b[38;5;132;01m=}\u001b[39;00m\u001b[38;5;124m \u001b[39m\u001b[38;5;132;01m{\u001b[39;00mA_N\u001b[38;5;241m.\u001b[39mshape\u001b[38;5;132;01m=}\u001b[39;00m\u001b[38;5;124m'\u001b[39m)\n\u001b[1;32m    195\u001b[0m \u001b[38;5;66;03m# Reduced cost\u001b[39;00m\n\u001b[0;32m--> 196\u001b[0m cost \u001b[38;5;241m=\u001b[39m c_N \u001b[38;5;241m-\u001b[39m (\u001b[43mc_B\u001b[49m\u001b[43m \u001b[49m\u001b[38;5;241;43m@\u001b[39;49m\u001b[43m \u001b[49m\u001b[43mnp\u001b[49m\u001b[38;5;241;43m.\u001b[39;49m\u001b[43mlinalg\u001b[49m\u001b[38;5;241;43m.\u001b[39;49m\u001b[43minv\u001b[49m\u001b[43m(\u001b[49m\u001b[43mA_B\u001b[49m\u001b[43m)\u001b[49m \u001b[38;5;241m@\u001b[39m A_N)\n\u001b[1;32m    197\u001b[0m \u001b[38;5;28mprint\u001b[39m(\u001b[38;5;124mf\u001b[39m\u001b[38;5;124m'\u001b[39m\u001b[38;5;132;01m{\u001b[39;00mcost\u001b[38;5;241m.\u001b[39mshape\u001b[38;5;132;01m=}\u001b[39;00m\u001b[38;5;124m'\u001b[39m)\n\u001b[1;32m    198\u001b[0m \u001b[38;5;66;03m# f_v will need to change\u001b[39;00m\n",
      "\u001b[0;31mValueError\u001b[0m: operands could not be broadcast together with remapped shapes [original->remapped]: (4,5,5)->(4,newaxis,newaxis) (5,5,5)->(5,newaxis,newaxis)  and requested shape (5,5)"
     ]
    }
   ],
   "source": [
    "cv.lawrence_integrate_polytope(p, cv.dd_extreme, coeffs=coeffs, P=P)[0]"
   ]
  },
  {
   "cell_type": "code",
   "execution_count": 26,
   "id": "f051f3f9",
   "metadata": {},
   "outputs": [
    {
     "data": {
      "text/plain": [
       "array([ 24., 120., 720.])"
      ]
     },
     "execution_count": 26,
     "metadata": {},
     "output_type": "execute_result"
    }
   ],
   "source": [
    "import math\n",
    "from scipy.special import factorial\n",
    "factorial(np.array([4, 5, 6]))"
   ]
  },
  {
   "cell_type": "code",
   "execution_count": 142,
   "id": "d4180e6c",
   "metadata": {},
   "outputs": [],
   "source": [
    "A = np.concatenate([-np.eye(2), np.eye(2)], axis=0)\n",
    "b = np.array([0, 0, 1, 1])\n",
    "p = reduce(Polytope(A, b))"
   ]
  },
  {
   "cell_type": "code",
   "execution_count": 143,
   "id": "080f8db8",
   "metadata": {},
   "outputs": [
    {
     "data": {
      "text/plain": [
       "86.4"
      ]
     },
     "execution_count": 143,
     "metadata": {},
     "output_type": "execute_result"
    }
   ],
   "source": [
    "cv.lawrence_integrate_polytope_slow(p, cv.dd_extreme, coeffs=np.array([6, -3]), P=4)[0]"
   ]
  },
  {
   "cell_type": "code",
   "execution_count": 144,
   "id": "8452605a",
   "metadata": {},
   "outputs": [
    {
     "data": {
      "text/plain": [
       "86.4"
      ]
     },
     "execution_count": 144,
     "metadata": {},
     "output_type": "execute_result"
    }
   ],
   "source": [
    "cv.lawrence_integrate_polytope(p, cv.dd_extreme, coeffs=np.array([6, -3]), P=4)[0]"
   ]
  },
  {
   "cell_type": "code",
   "execution_count": 159,
   "id": "03c28c0c",
   "metadata": {},
   "outputs": [
    {
     "data": {
      "text/plain": [
       "4.666666666666666"
      ]
     },
     "execution_count": 159,
     "metadata": {},
     "output_type": "execute_result"
    }
   ],
   "source": [
    "cv.lawrence_integrate_polytope_slow(p, cv.dd_extreme, coeffs=np.array([2, 2]), P=2)[0]"
   ]
  },
  {
   "cell_type": "code",
   "execution_count": 157,
   "id": "75b9d8ef",
   "metadata": {},
   "outputs": [
    {
     "data": {
      "text/plain": [
       "4.666666666666667"
      ]
     },
     "execution_count": 157,
     "metadata": {},
     "output_type": "execute_result"
    }
   ],
   "source": [
    "cv.lawrence_integrate_polytope(p, cv.dd_extreme, coeffs=np.array([2, 2]), P=2)[0]"
   ]
  },
  {
   "cell_type": "code",
   "execution_count": 158,
   "id": "3fb58b24",
   "metadata": {},
   "outputs": [
    {
     "data": {
      "text/plain": [
       "4.666666666666666"
      ]
     },
     "execution_count": 158,
     "metadata": {},
     "output_type": "execute_result"
    }
   ],
   "source": [
    "quad_integrate_polytope(p.A, p.b, lambda x, y: (2*x + 2*y)**2)"
   ]
  },
  {
   "cell_type": "code",
   "execution_count": 163,
   "id": "85435223",
   "metadata": {},
   "outputs": [],
   "source": [
    "vertices = np.random.normal(size=(500, 200))"
   ]
  },
  {
   "cell_type": "code",
   "execution_count": 164,
   "id": "1a3c99ea",
   "metadata": {
    "scrolled": true
   },
   "outputs": [
    {
     "data": {
      "text/plain": [
       "array([[-2.37667,  0.08312,  0.09779, ..., -0.9436 , -0.51105, -0.07377],\n",
       "       [ 0.04836,  0.14266, -1.25115, ..., -0.90037,  0.50388, -0.57966],\n",
       "       [-1.40117,  0.1994 , -1.25702, ..., -1.65793, -0.39542,  0.24319],\n",
       "       ...,\n",
       "       [-0.63823, -0.4692 , -0.41608, ...,  2.04812, -0.99656,  0.34516],\n",
       "       [-0.24358, -0.86994,  0.70537, ...,  1.26658,  0.83478,  0.99935],\n",
       "       [ 0.07721,  0.05995,  0.34639, ..., -0.84871, -0.33205,  1.8765 ]])"
      ]
     },
     "execution_count": 164,
     "metadata": {},
     "output_type": "execute_result"
    }
   ],
   "source": [
    "vertices"
   ]
  },
  {
   "cell_type": "code",
   "execution_count": 166,
   "id": "81c17c5a",
   "metadata": {},
   "outputs": [],
   "source": [
    "from scipy.spatial import ConvexHull"
   ]
  },
  {
   "cell_type": "code",
   "execution_count": null,
   "id": "6fb69c26",
   "metadata": {},
   "outputs": [],
   "source": [
    "ConvexHull(vertices)"
   ]
  },
  {
   "cell_type": "code",
   "execution_count": null,
   "id": "22caf6b8",
   "metadata": {},
   "outputs": [],
   "source": []
  }
 ],
 "metadata": {
  "kernelspec": {
   "display_name": "Python 3 (ipykernel)",
   "language": "python",
   "name": "python3"
  },
  "language_info": {
   "codemirror_mode": {
    "name": "ipython",
    "version": 3
   },
   "file_extension": ".py",
   "mimetype": "text/x-python",
   "name": "python",
   "nbconvert_exporter": "python",
   "pygments_lexer": "ipython3",
   "version": "3.11.4"
  }
 },
 "nbformat": 4,
 "nbformat_minor": 5
}
