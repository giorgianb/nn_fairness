{
 "cells": [
  {
   "cell_type": "code",
   "execution_count": 1,
   "id": "cc8f48bb",
   "metadata": {},
   "outputs": [
    {
     "name": "stdout",
     "output_type": "stream",
     "text": [
      "/home/giorgian/Documente/Cercetare/Fairness/nn_fairness\n"
     ]
    }
   ],
   "source": [
    "%cd /home/giorgian/Documente/Cercetare/Fairness/nn_fairness"
   ]
  },
  {
   "cell_type": "code",
   "execution_count": 2,
   "id": "2c99cb81",
   "metadata": {
    "scrolled": true
   },
   "outputs": [
    {
     "name": "stderr",
     "output_type": "stream",
     "text": [
      "/home/giorgian/.local/share/venvs/fairness/lib/python3.11/site-packages/skl2onnx/algebra/onnx_ops.py:159: UserWarning: OpSchema.FormalParameter.typeStr is deprecated and will be removed in 1.16. Use OpSchema.FormalParameter.type_str instead.\n",
      "  tys = obj.typeStr or ''\n",
      "/home/giorgian/.local/share/venvs/fairness/lib/python3.11/site-packages/skl2onnx/algebra/automation.py:154: UserWarning: OpSchema.FormalParameter.isHomogeneous is deprecated and will be removed in 1.16. Use OpSchema.FormalParameter.is_homogeneous instead.\n",
      "  if getattr(obj, 'isHomogeneous', False):\n",
      "/usr/lib/python3.11/site-packages/jinja2/environment.py:485: UserWarning: OpSchema.FormalParameter.typeStr is deprecated and will be removed in 1.16. Use OpSchema.FormalParameter.type_str instead.\n",
      "  return getattr(obj, attribute)\n"
     ]
    }
   ],
   "source": [
    "import nn_fairness as nnf\n",
    "import json\n",
    "import numpy as np\n",
    "from prob import ProbabilityDensityComputer\n",
    "import pickle"
   ]
  },
  {
   "cell_type": "code",
   "execution_count": 3,
   "id": "f23325e4",
   "metadata": {},
   "outputs": [],
   "source": [
    "nnf.set_settings()"
   ]
  },
  {
   "cell_type": "code",
   "execution_count": 4,
   "id": "f9a077fb",
   "metadata": {},
   "outputs": [],
   "source": [
    "with open('configs/config-compas.json') as handle:\n",
    "    config = json.load(handle)"
   ]
  },
  {
   "cell_type": "code",
   "execution_count": 5,
   "id": "332a53c1",
   "metadata": {},
   "outputs": [],
   "source": [
    "with open(config['train_data_path'], 'rb') as f:\n",
    "    data_dict = pickle.load(f)\n",
    "    X = data_dict['X_train']\n",
    "    y = data_dict['y_train']\n",
    "    \n",
    "c1 = config['class_1']\n",
    "c2 = config['class_2']\n",
    "class_1_indices = np.array(c1['indices'])\n",
    "class_1_values = np.array(c1['values'])\n",
    "class_2_indices = np.array(c2['indices'])\n",
    "class_2_values = np.array(c2['values'])\n",
    "def is_class_1(x):\n",
    "    return np.allclose(x[class_1_indices], class_1_values, atol=1e-1)\n",
    "\n",
    "def is_class_2(x):\n",
    "    return np.allclose(x[class_2_indices], class_2_values, atol=1e-1)\n",
    "\n",
    "class_1_prob = ProbabilityDensityComputer(\n",
    "        X,\n",
    "        config['discrete_indices'],\n",
    "        config['continuous_indices'],\n",
    "        config['one_hot_indices'],\n",
    "        config['fixed_indices'],\n",
    "        is_class_1\n",
    ")\n",
    "\n",
    "class_2_prob = ProbabilityDensityComputer(\n",
    "        X,\n",
    "        config['discrete_indices'],\n",
    "        config['continuous_indices'],\n",
    "        config['one_hot_indices'],\n",
    "        config['fixed_indices'],\n",
    "        is_class_2\n",
    ")"
   ]
  },
  {
   "cell_type": "code",
   "execution_count": 6,
   "id": "64c78d43",
   "metadata": {},
   "outputs": [],
   "source": [
    "input_config = nnf.InputConfig(config['one_hot_indices'], config['discrete_indices'])"
   ]
  },
  {
   "cell_type": "code",
   "execution_count": 14,
   "id": "095607d8",
   "metadata": {},
   "outputs": [],
   "source": [
    "fc = nnf.FairnessCalculator.from_onnx_file(config['models'][1][1], input_config)"
   ]
  },
  {
   "cell_type": "code",
   "execution_count": 15,
   "id": "2b350437",
   "metadata": {},
   "outputs": [],
   "source": [
    "c1 = config['class_1']\n",
    "c2 = config['class_2']\n",
    "class_1_box = np.array(c1['box'], dtype=np.float32)\n",
    "class_2_box = np.array(c2['box'], dtype=np.float32)"
   ]
  },
  {
   "cell_type": "code",
   "execution_count": 16,
   "id": "7f51535f",
   "metadata": {},
   "outputs": [
    {
     "data": {
      "text/plain": [
       "array([[0., 1.],\n",
       "       [0., 1.],\n",
       "       [0., 0.],\n",
       "       [0., 1.]], dtype=float32)"
      ]
     },
     "execution_count": 16,
     "metadata": {},
     "output_type": "execute_result"
    }
   ],
   "source": [
    "class_1_box"
   ]
  },
  {
   "cell_type": "code",
   "execution_count": 17,
   "id": "fe4fa56b",
   "metadata": {},
   "outputs": [],
   "source": [
    "res = fc.forward({'white': class_1_box, 'black': class_2_box})"
   ]
  },
  {
   "cell_type": "code",
   "execution_count": 18,
   "id": "26fd62e8",
   "metadata": {},
   "outputs": [
    {
     "data": {
      "text/plain": [
       "{('white', 'black'): (0.1340127716765126,\n",
       "  0.6662315740639089,\n",
       "  '13.40127716765126% of all white individuals would have not been classified safe if only they had been black'),\n",
       " ('black', 'white'): (-1.1102230246251565e-16,\n",
       "  0.306423983636468,\n",
       "  '-1.1102230246251565e-14% of all black individuals would have not been classified safe if only they had been white')}"
      ]
     },
     "execution_count": 18,
     "metadata": {},
     "output_type": "execute_result"
    }
   ],
   "source": [
    "res.advantage({'white': class_1_prob, 'black': class_2_prob}, label='safe')"
   ]
  },
  {
   "cell_type": "code",
   "execution_count": 19,
   "id": "b6ab63ef",
   "metadata": {},
   "outputs": [
    {
     "data": {
      "text/plain": [
       "{('black', 'white'): (0.13655877933685334,\n",
       "  0.44298276297332145,\n",
       "  '13.655877933685334% of all black individuals would have been classified safe if only they had been white'),\n",
       " ('white', 'black'): (4.440892098500626e-16,\n",
       "  0.5322188023873966,\n",
       "  '4.440892098500626e-14% of all white individuals would have been classified safe if only they had been black')}"
      ]
     },
     "execution_count": 19,
     "metadata": {},
     "output_type": "execute_result"
    }
   ],
   "source": [
    "res.disadvantage({'white': class_1_prob, 'black': class_2_prob}, label='safe')"
   ]
  },
  {
   "cell_type": "code",
   "execution_count": 20,
   "id": "05777240",
   "metadata": {},
   "outputs": [
    {
     "data": {
      "text/plain": [
       "{('white', 'black'): (0.306423983636468,\n",
       "  0.6662315740639089,\n",
       "  'black individuals are considered safe at 45.99361476780955% of the rate of white individuals'),\n",
       " ('black', 'white'): (0.6662315740639089,\n",
       "  0.306423983636468,\n",
       "  'white individuals are considered safe at 217.42148449264516% of the rate of black individuals')}"
      ]
     },
     "execution_count": 20,
     "metadata": {},
     "output_type": "execute_result"
    }
   ],
   "source": [
    "res.preference({'white': class_1_prob, 'black': class_2_prob}, label='safe')"
   ]
  },
  {
   "cell_type": "code",
   "execution_count": null,
   "id": "06ffd6b6",
   "metadata": {},
   "outputs": [],
   "source": []
  },
  {
   "cell_type": "code",
   "execution_count": null,
   "id": "bd187f38",
   "metadata": {},
   "outputs": [],
   "source": []
  }
 ],
 "metadata": {
  "kernelspec": {
   "display_name": "Python 3 (ipykernel)",
   "language": "python",
   "name": "python3"
  },
  "language_info": {
   "codemirror_mode": {
    "name": "ipython",
    "version": 3
   },
   "file_extension": ".py",
   "mimetype": "text/x-python",
   "name": "python",
   "nbconvert_exporter": "python",
   "pygments_lexer": "ipython3",
   "version": "3.11.4"
  }
 },
 "nbformat": 4,
 "nbformat_minor": 5
}
