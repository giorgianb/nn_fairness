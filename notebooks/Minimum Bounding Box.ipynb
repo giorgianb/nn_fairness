{
 "cells": [
  {
   "cell_type": "markdown",
   "id": "6a0d7fb0",
   "metadata": {},
   "source": [
    "# Bounding Box Explorations\n",
    "\n",
    "We want to find a good set of axes so that when we query the range tree using the bounding box we generated for each polytope, we minimize the number of extraneous polytopes fetched where the bounding boxes intersect but the polytopes themselves do not intersect.\n",
    "\n",
    "There are a few trade-offs to consider\n",
    "1) Fetching the vertices can lead to a rough approximation of the oriented minimum bounding box. However, computing the vertices of the full dimensional polytope is expensive.\n",
    "2) Using multiple bounding boxes the area under the intersection. However, since we pay $O((\\log n)^d + k)$ penalty in the dimensions for the range tree search doubling $d$ might not make sense if the number of intersections is not reduced."
   ]
  },
  {
   "cell_type": "markdown",
   "id": "8aac7fbe",
   "metadata": {},
   "source": [
    "## Setup and Utility Functions"
   ]
  },
  {
   "cell_type": "code",
   "execution_count": 1,
   "id": "d3c3b89e",
   "metadata": {},
   "outputs": [
    {
     "name": "stdout",
     "output_type": "stream",
     "text": [
      "/home/giorgian/Documente/Cercetare/Fairness/nn_fairness\n"
     ]
    }
   ],
   "source": [
    "%cd /home/giorgian/Documente/Cercetare/Fairness/nn_fairness"
   ]
  },
  {
   "cell_type": "code",
   "execution_count": 25,
   "id": "6ec7841f",
   "metadata": {},
   "outputs": [],
   "source": [
    "import pickle\n",
    "from polytope import Polytope, extreme, reduce, cheby_ball\n",
    "import numpy as np\n",
    "import quad\n",
    "from compute_volume import lawrence_integrate_polytope\n",
    "import json\n",
    "from prob import ProbabilityDensityComputer\n",
    "import math\n",
    "from scipy.spatial import ConvexHull, QhullError\n",
    "import nn_fairness as nnf\n",
    "from compute_volume import dd_extreme\n",
    "from sklearn.decomposition import PCA\n",
    "from tqdm.notebook import tqdm\n",
    "import matplotlib.pyplot as plt\n",
    "from rtree import index\n",
    "from itertools import product\n",
    "from scipy.optimize import minimize\n",
    "import miniball"
   ]
  },
  {
   "cell_type": "code",
   "execution_count": 3,
   "id": "d894510b",
   "metadata": {},
   "outputs": [],
   "source": [
    "with open('polys_adults.pickle', 'rb') as handle:\n",
    "    res = pickle.load(handle)\n",
    "\n",
    "for k, v in res['lpi_instance'].items():\n",
    "    for poly in v:\n",
    "        poly.deserialize()"
   ]
  },
  {
   "cell_type": "code",
   "execution_count": 33,
   "id": "8893265f",
   "metadata": {},
   "outputs": [],
   "source": [
    "def get_poly(group, i):\n",
    "    return res['lpi_instance'][group][i]\n",
    "\n",
    "def poly_volume(p):\n",
    "    vertices = poly_vertices(p)\n",
    "\n",
    "    return ConvexHull(vertices).volume\n",
    "\n",
    "def poly_vertices(p):\n",
    "    A = p.get_constraints_csr().toarray()\n",
    "    b = p.get_rhs()\n",
    "    c = np.array(p._get_col_bounds())\n",
    "    A = np.concatenate([A, -np.eye(A.shape[1]), np.eye(A.shape[1])], axis=0)\n",
    "    b = np.concatenate([b, c[:, 0], c[:, 1]])\n",
    "    poly = reduce(Polytope(A, b))\n",
    "    vertices = dd_extreme(poly)[0]\n",
    "    return vertices\n",
    "\n",
    "def poly_center(p):\n",
    "    A = p.get_constraints_csr().toarray()\n",
    "    b = p.get_rhs()\n",
    "    c = np.array(p._get_col_bounds())\n",
    "    A = np.concatenate([A, -np.eye(A.shape[1]), np.eye(A.shape[1])], axis=0)\n",
    "    b = np.concatenate([b, c[:, 0], c[:, 1]])\n",
    "    poly = reduce(Polytope(A, b))\n",
    "    return cheby_ball(poly)[-1]\n",
    "    \n",
    "\n",
    "def get_bounding_box(lpi, directions=None):\n",
    "    if directions is None:\n",
    "        n = lpi.get_constraints_csr().shape[1]\n",
    "        directions = np.eye(n)\n",
    "    bb = []\n",
    "    for i, v in enumerate(directions):\n",
    "        min_bound = (v @ lpi.minimize(v))\n",
    "        max_bound = (v @ lpi.minimize(-v))\n",
    "        bb.append((min_bound, max_bound))\n",
    "\n",
    "    return np.array(bb)\n",
    "\n",
    "def get_directions_min(lpi):\n",
    "    n = lpi.get_constraints_csr().shape[1]\n",
    "    def clean_directions(d):\n",
    "        d = np.array(d)\n",
    "        for i in range(d.shape[0]):\n",
    "            d[i] = d[i] / np.linalg.norm(d[i])\n",
    "            for j in range(i+1, d.shape[0]):\n",
    "                d[j] -= (d[j] @ d[i])*d[i]\n",
    "                \n",
    "        return d\n",
    "    \n",
    "    def f(x):\n",
    "        directions = clean_directions(x.reshape(n, n))\n",
    "        \n",
    "        return bb_volume(get_bounding_box(lpi, directions))\n",
    "    \n",
    "    x0 = np.random.uniform(size=(n, n)).reshape(-1)\n",
    "    return clean_directions(minimize(f, x0).x.reshape(n, n))\n",
    "    \n",
    "def bb_intersection_volume(bb_0, dir_0, bb_1, dir_1):\n",
    "    A = np.concatenate((-dir_0, dir_0, -dir_1, dir_1), axis=0)\n",
    "    b = np.concatenate((-bb_0[:, 0], bb_0[:, 1], -bb_1[:, 0], bb_1[:, 1]), axis=0)\n",
    "    return lawrence_integrate_polytope(reduce(Polytope(A, b)))\n",
    "    \n",
    "    #return ConvexHull(extreme(reduce(Polytope(A, b)))[0]).volume\n",
    "\n",
    "def get_pca(lpi):\n",
    "    v = poly_vertices(lpi)\n",
    "    return PCA(n_components=v.shape[1]).fit(v).components_\n",
    "\n",
    "def get_min_bounding_box(lpi):\n",
    "    directions = get_pca(lpi)\n",
    "    return get_bounding_box(lpi, directions)\n",
    "\n",
    "def bb_volume(bb, dirs=None, n_dims=None):\n",
    "    if dirs is None or n_dims == bb.shape[0]:\n",
    "        return np.prod(np.abs(bb[:, 1] - bb[:, 0]))\n",
    "    else:\n",
    "        A_parts = []\n",
    "        b_parts = []\n",
    "        for i in range(0, dirs.shape[0], n_dims):\n",
    "            A_sub = dirs[i:i+n_dims]\n",
    "            b_sub = bb[i:i+n_dims]\n",
    "            A_parts.append(-A_sub)\n",
    "            A_parts.append(A_sub)\n",
    "            b_parts.append(-b_sub[:, 0])\n",
    "            b_parts.append(b_sub[:, 1])\n",
    "        A_full = np.concatenate(A_parts, axis=0)\n",
    "        b_full = np.concatenate(b_parts, axis=0)\n",
    "        try:\n",
    "            return ConvexHull(dd_extreme(reduce(Polytope(A_full, b_full)))[0]).volume\n",
    "        except QhullError:\n",
    "            return ConvexHull(dd_extreme(reduce(Polytope(A_full, b_full)))[0], qhull_options=\"QJ\").volume"
   ]
  },
  {
   "cell_type": "code",
   "execution_count": 29,
   "id": "e995b519",
   "metadata": {},
   "outputs": [],
   "source": [
    "def benchmark(methods):\n",
    "    bounding_boxes = {}\n",
    "    components = {}\n",
    "    print('[Computing Components]')\n",
    "    for label, lpi_polys in res['lpi_instance'].items():\n",
    "        bounding_boxes[label] = {}\n",
    "        components[label] = {}\n",
    "        for method, fun in methods.items():\n",
    "            c = fun(lpi_polys)\n",
    "            components[label][method] = c\n",
    "            bounding_boxes[label][method] = [get_bounding_box(lpi, c) for lpi in lpi_polys]\n",
    "    \n",
    "    print('[Computing Benchmark Figures]')\n",
    "    stats = {}\n",
    "    labels = list(res['lpi_instance'].keys())\n",
    "    for l0, l1 in product(labels, labels):\n",
    "        stats[(l0, l1)] = {}\n",
    "        for m in methods.keys():\n",
    "\n",
    "            b1 = bounding_boxes[l1][m]\n",
    "            p = index.Property(dimension=b1[0].shape[0])\n",
    "            box_index = index.Index(properties=p, interleaved=False)\n",
    "            l1_volumes = []\n",
    "            for i, b in enumerate(b1):\n",
    "                box_index.insert(i, b.flatten())\n",
    "                l1_volumes.append(bb_volume(b))\n",
    "\n",
    "            \n",
    "            c = components[l1][m]\n",
    "            l0_volumes = []\n",
    "            n = 0\n",
    "            for lpi in tqdm(res['lpi_instance'][l0]):\n",
    "                b0 = get_bounding_box(lpi, c)\n",
    "                l0_volumes.append(bb_volume(b0, c, n_dims=lpi.get_constraints_csr().shape[1]))\n",
    "                n += len(list(box_index.intersection(b0.flatten())))\n",
    "                \n",
    "            stats[(l0, l1)][m]= {\n",
    "                'intersections': (n, len(res['lpi_instance'][l0]), len(res['lpi_instance'][l1])),\n",
    "                f'{l0} BB volume': np.mean(l0_volumes),\n",
    "                f'{l1} BB volume' : np.mean(l1_volumes)\n",
    "            }\n",
    "    return stats, bounding_boxes, components"
   ]
  },
  {
   "cell_type": "markdown",
   "id": "7b9a245d",
   "metadata": {},
   "source": [
    "## Methods to Benchmark"
   ]
  },
  {
   "cell_type": "code",
   "execution_count": 30,
   "id": "6436f83c",
   "metadata": {},
   "outputs": [],
   "source": [
    "# Take all the vertices, find PCA for each vertex, find PCA of PCA\n",
    "def get_directions_PCA(lpi_polys):\n",
    "    components = np.concatenate([get_pca(lpi) for lpi in tqdm(lpi_polys)], axis=0)\n",
    "    best_components = PCA(n_components=components.shape[1]).fit(components).components_\n",
    "    return best_components\n",
    "\n",
    "# Take all vertices and find PCA\n",
    "def get_directions_PCA_1(lpi_polys):\n",
    "    vertices = [poly_vertices(lpi) for lpi in tqdm(lpi_polys)]\n",
    "    rescaled = []\n",
    "    for vset in vertices:\n",
    "        rescaled.append(vset - np.mean(vset, axis=0)[None, :])\n",
    "    rescaled = np.concatenate(rescaled, axis=0)\n",
    "    return PCA(n_components=rescaled.shape[-1]).fit(rescaled).components_\n",
    "\n",
    "\n",
    "## Axis aligned\n",
    "def get_directions_AA(lpi_polys):\n",
    "    n_components = lpi_polys[0].get_constraints_csr().shape[1]\n",
    "    return np.eye(n_components)\n",
    "\n",
    "## Intersection of two bounding box: one axis aligned and one rotated at 45 degrees\n",
    "def get_directions_double(lpi_polys):\n",
    "    n_components = lpi_polys[0].get_constraints_csr().shape[1]\n",
    "    dirs = np.eye(n_components)\n",
    "    new_dirs = np.array(dirs)\n",
    "    for i, j in zip(range(dirs.shape[0]), range(1, dirs.shape[0])):\n",
    "        i %= dirs.shape[0]\n",
    "        j %= dirs.shape[0]\n",
    "        new_dirs[i] = (dirs[i] + dirs[j]) / np.sqrt(2)\n",
    "        new_dirs[j] = (dirs[i] - dirs[j]) / np.sqrt(2)\n",
    "    return np.concatenate([dirs, new_dirs], axis=0)\n",
    "    \n",
    "# Use furthest point from chebyshev center to define a set of vertices: use PCA of all directions\n",
    "def get_directions_cheby(lpi_polys):\n",
    "    components = np.concatenate([get_directions_cheby_polytope(lpi) for lpi in tqdm(lpi_polys)], axis=0)\n",
    "    best_components = PCA(n_components=components.shape[1]).fit(components).components_\n",
    "    return best_components\n",
    "\n",
    "\n",
    "def get_directions_cheby_polytope(p):\n",
    "    v = poly_vertices(p)\n",
    "    c = poly_center(p)\n",
    "    n = p.get_constraints_csr().shape[1]\n",
    "    directions = []\n",
    "    vp = np.array(v)\n",
    "    for i in range(n):\n",
    "        distances = np.linalg.norm(v - c, axis=-1)\n",
    "        furthest = np.argmax(distances)\n",
    "        d = (v[furthest] - c)/np.linalg.norm(v[furthest] - c)\n",
    "        v = v - ((v - c) @ d)[:, None] * d\n",
    "        directions.append(d)\n",
    "    return np.stack(directions, axis=0)\n",
    "\n",
    "def get_directions_mean(lpi_polys):\n",
    "    components = np.concatenate([get_directions_mean_polytope(lpi) for lpi in tqdm(lpi_polys)], axis=0)\n",
    "    best_components = PCA(n_components=components.shape[1]).fit(components).components_\n",
    "\n",
    "\n",
    "def get_directions_mean_polytope(p):\n",
    "    v = poly_vertices(p)\n",
    "    c = np.mean(v, axis=0)\n",
    "    n = p.get_constraints_csr().shape[1]\n",
    "    directions = []\n",
    "    vp = np.array(v)\n",
    "    for i in range(n):\n",
    "        distances = np.linalg.norm(v - c, axis=-1)\n",
    "        furthest = np.argmax(distances)\n",
    "        d = (v[furthest] - c)/np.linalg.norm(v[furthest] - c)\n",
    "        v = v - ((v - c) @ d)[:, None] * d\n",
    "        directions.append(d)\n",
    "    return np.stack(directions, axis=0)"
   ]
  },
  {
   "cell_type": "markdown",
   "id": "45457c97",
   "metadata": {},
   "source": [
    "## Specify the benchmark and run it"
   ]
  },
  {
   "cell_type": "code",
   "execution_count": 31,
   "id": "928e31fb",
   "metadata": {},
   "outputs": [],
   "source": [
    "methods = {\n",
    "    'identity' : get_directions_AA,\n",
    "    'double' : get_directions_double,\n",
    "    'PCA' : get_directions_PCA,\n",
    "    'PCA_1' : get_directions_PCA_1,\n",
    "    'mean' : get_directions_mean,\n",
    "    'cheby' : get_directions_cheby\n",
    "}"
   ]
  },
  {
   "cell_type": "code",
   "execution_count": 34,
   "id": "26b4c367",
   "metadata": {
    "scrolled": true
   },
   "outputs": [
    {
     "name": "stdout",
     "output_type": "stream",
     "text": [
      "[Computing Components]\n"
     ]
    },
    {
     "data": {
      "application/vnd.jupyter.widget-view+json": {
       "model_id": "1157d0f6be13460caf0e99b2d073c78b",
       "version_major": 2,
       "version_minor": 0
      },
      "text/plain": [
       "  0%|          | 0/775 [00:00<?, ?it/s]"
      ]
     },
     "metadata": {},
     "output_type": "display_data"
    },
    {
     "data": {
      "application/vnd.jupyter.widget-view+json": {
       "model_id": "2b285599ab1a469fb1ae33cafc239f0f",
       "version_major": 2,
       "version_minor": 0
      },
      "text/plain": [
       "  0%|          | 0/775 [00:00<?, ?it/s]"
      ]
     },
     "metadata": {},
     "output_type": "display_data"
    },
    {
     "data": {
      "application/vnd.jupyter.widget-view+json": {
       "model_id": "33063abeedca406c8fe139c73a2b4e31",
       "version_major": 2,
       "version_minor": 0
      },
      "text/plain": [
       "  0%|          | 0/775 [00:00<?, ?it/s]"
      ]
     },
     "metadata": {},
     "output_type": "display_data"
    },
    {
     "data": {
      "application/vnd.jupyter.widget-view+json": {
       "model_id": "92ce7b037c41476bb98dedb1c93c072b",
       "version_major": 2,
       "version_minor": 0
      },
      "text/plain": [
       "  0%|          | 0/775 [00:00<?, ?it/s]"
      ]
     },
     "metadata": {},
     "output_type": "display_data"
    },
    {
     "data": {
      "application/vnd.jupyter.widget-view+json": {
       "model_id": "cf27038d427245e5aeb42e2fd5fad252",
       "version_major": 2,
       "version_minor": 0
      },
      "text/plain": [
       "  0%|          | 0/931 [00:00<?, ?it/s]"
      ]
     },
     "metadata": {},
     "output_type": "display_data"
    },
    {
     "data": {
      "application/vnd.jupyter.widget-view+json": {
       "model_id": "166da481b2314a34b416c959e9a0ce94",
       "version_major": 2,
       "version_minor": 0
      },
      "text/plain": [
       "  0%|          | 0/931 [00:00<?, ?it/s]"
      ]
     },
     "metadata": {},
     "output_type": "display_data"
    },
    {
     "data": {
      "application/vnd.jupyter.widget-view+json": {
       "model_id": "cf446d5396494673ac3cffb7e1efa214",
       "version_major": 2,
       "version_minor": 0
      },
      "text/plain": [
       "  0%|          | 0/931 [00:00<?, ?it/s]"
      ]
     },
     "metadata": {},
     "output_type": "display_data"
    },
    {
     "data": {
      "application/vnd.jupyter.widget-view+json": {
       "model_id": "3cd7639df1f342e2a6d7de2daf4f8380",
       "version_major": 2,
       "version_minor": 0
      },
      "text/plain": [
       "  0%|          | 0/931 [00:00<?, ?it/s]"
      ]
     },
     "metadata": {},
     "output_type": "display_data"
    },
    {
     "name": "stdout",
     "output_type": "stream",
     "text": [
      "[Computing Benchmark Figures]\n"
     ]
    },
    {
     "data": {
      "application/vnd.jupyter.widget-view+json": {
       "model_id": "ee8629da8de34c64a8d2652e64e33b84",
       "version_major": 2,
       "version_minor": 0
      },
      "text/plain": [
       "  0%|          | 0/775 [00:00<?, ?it/s]"
      ]
     },
     "metadata": {},
     "output_type": "display_data"
    },
    {
     "data": {
      "application/vnd.jupyter.widget-view+json": {
       "model_id": "869a1089b2a1441296911067e1e4b83c",
       "version_major": 2,
       "version_minor": 0
      },
      "text/plain": [
       "  0%|          | 0/775 [00:00<?, ?it/s]"
      ]
     },
     "metadata": {},
     "output_type": "display_data"
    },
    {
     "data": {
      "application/vnd.jupyter.widget-view+json": {
       "model_id": "d0ae590e298141b285b195a6aa28bb62",
       "version_major": 2,
       "version_minor": 0
      },
      "text/plain": [
       "  0%|          | 0/775 [00:00<?, ?it/s]"
      ]
     },
     "metadata": {},
     "output_type": "display_data"
    },
    {
     "data": {
      "application/vnd.jupyter.widget-view+json": {
       "model_id": "421a5d9a17c14963aaa2efee657b76a3",
       "version_major": 2,
       "version_minor": 0
      },
      "text/plain": [
       "  0%|          | 0/775 [00:00<?, ?it/s]"
      ]
     },
     "metadata": {},
     "output_type": "display_data"
    },
    {
     "data": {
      "application/vnd.jupyter.widget-view+json": {
       "model_id": "106c43f7d4804c94b62b2a32a7374203",
       "version_major": 2,
       "version_minor": 0
      },
      "text/plain": [
       "  0%|          | 0/775 [00:00<?, ?it/s]"
      ]
     },
     "metadata": {},
     "output_type": "display_data"
    },
    {
     "data": {
      "application/vnd.jupyter.widget-view+json": {
       "model_id": "68dab12cd68e4233bae39ba5f708cc44",
       "version_major": 2,
       "version_minor": 0
      },
      "text/plain": [
       "  0%|          | 0/775 [00:00<?, ?it/s]"
      ]
     },
     "metadata": {},
     "output_type": "display_data"
    },
    {
     "data": {
      "application/vnd.jupyter.widget-view+json": {
       "model_id": "b8ddcbf092f043688f35371409c39210",
       "version_major": 2,
       "version_minor": 0
      },
      "text/plain": [
       "  0%|          | 0/775 [00:00<?, ?it/s]"
      ]
     },
     "metadata": {},
     "output_type": "display_data"
    },
    {
     "data": {
      "application/vnd.jupyter.widget-view+json": {
       "model_id": "d52667cdbb714e5882767d407acc02d7",
       "version_major": 2,
       "version_minor": 0
      },
      "text/plain": [
       "  0%|          | 0/775 [00:00<?, ?it/s]"
      ]
     },
     "metadata": {},
     "output_type": "display_data"
    },
    {
     "data": {
      "application/vnd.jupyter.widget-view+json": {
       "model_id": "708d5d0a14944abe8c09a60df37dbf88",
       "version_major": 2,
       "version_minor": 0
      },
      "text/plain": [
       "  0%|          | 0/775 [00:00<?, ?it/s]"
      ]
     },
     "metadata": {},
     "output_type": "display_data"
    },
    {
     "data": {
      "application/vnd.jupyter.widget-view+json": {
       "model_id": "339410da28144db8b879214e715b494a",
       "version_major": 2,
       "version_minor": 0
      },
      "text/plain": [
       "  0%|          | 0/775 [00:00<?, ?it/s]"
      ]
     },
     "metadata": {},
     "output_type": "display_data"
    },
    {
     "data": {
      "application/vnd.jupyter.widget-view+json": {
       "model_id": "df213908647c4010bf7e54f30a57fbfc",
       "version_major": 2,
       "version_minor": 0
      },
      "text/plain": [
       "  0%|          | 0/775 [00:00<?, ?it/s]"
      ]
     },
     "metadata": {},
     "output_type": "display_data"
    },
    {
     "data": {
      "application/vnd.jupyter.widget-view+json": {
       "model_id": "e54d19755af04e7d99f1baac3ee03f02",
       "version_major": 2,
       "version_minor": 0
      },
      "text/plain": [
       "  0%|          | 0/775 [00:00<?, ?it/s]"
      ]
     },
     "metadata": {},
     "output_type": "display_data"
    },
    {
     "data": {
      "application/vnd.jupyter.widget-view+json": {
       "model_id": "02b410ca75074a8ab48a44d088e18f9e",
       "version_major": 2,
       "version_minor": 0
      },
      "text/plain": [
       "  0%|          | 0/931 [00:00<?, ?it/s]"
      ]
     },
     "metadata": {},
     "output_type": "display_data"
    },
    {
     "data": {
      "application/vnd.jupyter.widget-view+json": {
       "model_id": "2b187b916d97462bb11bd62963f3340f",
       "version_major": 2,
       "version_minor": 0
      },
      "text/plain": [
       "  0%|          | 0/931 [00:00<?, ?it/s]"
      ]
     },
     "metadata": {},
     "output_type": "display_data"
    },
    {
     "data": {
      "application/vnd.jupyter.widget-view+json": {
       "model_id": "8920e400d607413b9089fc8f15df1f40",
       "version_major": 2,
       "version_minor": 0
      },
      "text/plain": [
       "  0%|          | 0/931 [00:00<?, ?it/s]"
      ]
     },
     "metadata": {},
     "output_type": "display_data"
    },
    {
     "data": {
      "application/vnd.jupyter.widget-view+json": {
       "model_id": "6b573fe4603d44c3af67e0b1ba2a80ed",
       "version_major": 2,
       "version_minor": 0
      },
      "text/plain": [
       "  0%|          | 0/931 [00:00<?, ?it/s]"
      ]
     },
     "metadata": {},
     "output_type": "display_data"
    },
    {
     "data": {
      "application/vnd.jupyter.widget-view+json": {
       "model_id": "01b6834dac3a49d8863150e94002773f",
       "version_major": 2,
       "version_minor": 0
      },
      "text/plain": [
       "  0%|          | 0/931 [00:00<?, ?it/s]"
      ]
     },
     "metadata": {},
     "output_type": "display_data"
    },
    {
     "data": {
      "application/vnd.jupyter.widget-view+json": {
       "model_id": "57807a59b0c54d44986eab400f38f234",
       "version_major": 2,
       "version_minor": 0
      },
      "text/plain": [
       "  0%|          | 0/931 [00:00<?, ?it/s]"
      ]
     },
     "metadata": {},
     "output_type": "display_data"
    },
    {
     "data": {
      "application/vnd.jupyter.widget-view+json": {
       "model_id": "bdcad9632206468c8b93766fe09f9f4a",
       "version_major": 2,
       "version_minor": 0
      },
      "text/plain": [
       "  0%|          | 0/931 [00:00<?, ?it/s]"
      ]
     },
     "metadata": {},
     "output_type": "display_data"
    },
    {
     "data": {
      "application/vnd.jupyter.widget-view+json": {
       "model_id": "54d02c5c0dd94aeebd6d79523a3e2016",
       "version_major": 2,
       "version_minor": 0
      },
      "text/plain": [
       "  0%|          | 0/931 [00:00<?, ?it/s]"
      ]
     },
     "metadata": {},
     "output_type": "display_data"
    },
    {
     "data": {
      "application/vnd.jupyter.widget-view+json": {
       "model_id": "504b22d8867e43bebb5603bdaa86e5a1",
       "version_major": 2,
       "version_minor": 0
      },
      "text/plain": [
       "  0%|          | 0/931 [00:00<?, ?it/s]"
      ]
     },
     "metadata": {},
     "output_type": "display_data"
    },
    {
     "data": {
      "application/vnd.jupyter.widget-view+json": {
       "model_id": "c81e6af5d16b419baa02879b45cda996",
       "version_major": 2,
       "version_minor": 0
      },
      "text/plain": [
       "  0%|          | 0/931 [00:00<?, ?it/s]"
      ]
     },
     "metadata": {},
     "output_type": "display_data"
    },
    {
     "data": {
      "application/vnd.jupyter.widget-view+json": {
       "model_id": "962b5bf74fad48eb85462edf5171fa5c",
       "version_major": 2,
       "version_minor": 0
      },
      "text/plain": [
       "  0%|          | 0/931 [00:00<?, ?it/s]"
      ]
     },
     "metadata": {},
     "output_type": "display_data"
    },
    {
     "data": {
      "application/vnd.jupyter.widget-view+json": {
       "model_id": "dfd8eeb71f9a4bb28119e041113b77c4",
       "version_major": 2,
       "version_minor": 0
      },
      "text/plain": [
       "  0%|          | 0/931 [00:00<?, ?it/s]"
      ]
     },
     "metadata": {},
     "output_type": "display_data"
    }
   ],
   "source": [
    "stats, bounding_boxes, components = benchmark(methods)"
   ]
  },
  {
   "cell_type": "code",
   "execution_count": 35,
   "id": "8217fed6",
   "metadata": {},
   "outputs": [
    {
     "data": {
      "text/plain": [
       "{('white male',\n",
       "  'white male'): {'identity': {'intersections': (209031, 775, 775),\n",
       "   'white male BB volume': 0.02947638255211447}, 'double': {'intersections': (176989,\n",
       "    775,\n",
       "    775),\n",
       "   'white male BB volume': 0.022996426706208373}, 'PCA': {'intersections': (333895,\n",
       "    775,\n",
       "    775),\n",
       "   'white male BB volume': 0.3444643628866343}, 'PCA_1': {'intersections': (153760,\n",
       "    775,\n",
       "    775),\n",
       "   'white male BB volume': 0.08752088524172408}, 'mean': {'intersections': (209032,\n",
       "    775,\n",
       "    775),\n",
       "   'white male BB volume': 0.02947638255211447}, 'cheby': {'intersections': (350526,\n",
       "    775,\n",
       "    775),\n",
       "   'white male BB volume': 0.566466208302958}},\n",
       " ('white male',\n",
       "  'black male'): {'identity': {'intersections': (172210, 775, 931),\n",
       "   'white male BB volume': 0.02947638255211449,\n",
       "   'black male BB volume': 0.02561782188811023}, 'double': {'intersections': (124811,\n",
       "    775,\n",
       "    931),\n",
       "   'white male BB volume': 0.01853321062287578,\n",
       "   'black male BB volume': 0.02351765763826616}, 'PCA': {'intersections': (274373,\n",
       "    775,\n",
       "    931),\n",
       "   'white male BB volume': 0.24401673577125396,\n",
       "   'black male BB volume': 0.2319127415104876}, 'PCA_1': {'intersections': (128357,\n",
       "    775,\n",
       "    931),\n",
       "   'white male BB volume': 0.12644566214361172,\n",
       "   'black male BB volume': 0.1055339321742104}, 'mean': {'intersections': (172210,\n",
       "    775,\n",
       "    931),\n",
       "   'white male BB volume': 0.029476382552114516,\n",
       "   'black male BB volume': 0.02561782188811019}, 'cheby': {'intersections': (345360,\n",
       "    775,\n",
       "    931),\n",
       "   'white male BB volume': 0.4674482467200272,\n",
       "   'black male BB volume': 0.4352955879529755}},\n",
       " ('black male',\n",
       "  'white male'): {'identity': {'intersections': (172210, 931, 775),\n",
       "   'black male BB volume': 0.025617821888110175,\n",
       "   'white male BB volume': 0.02947638255211447}, 'double': {'intersections': (124811,\n",
       "    931,\n",
       "    775),\n",
       "   'black male BB volume': 0.015717719770313138,\n",
       "   'white male BB volume': 0.022996426706208373}, 'PCA': {'intersections': (323290,\n",
       "    931,\n",
       "    775),\n",
       "   'black male BB volume': 0.31273620585441897,\n",
       "   'white male BB volume': 0.3444643628866343}, 'PCA_1': {'intersections': (115091,\n",
       "    931,\n",
       "    775),\n",
       "   'black male BB volume': 0.0863461000080736,\n",
       "   'white male BB volume': 0.08752088524172408}, 'mean': {'intersections': (172210,\n",
       "    931,\n",
       "    775),\n",
       "   'black male BB volume': 0.025617821888110175,\n",
       "   'white male BB volume': 0.02947638255211447}, 'cheby': {'intersections': (378067,\n",
       "    931,\n",
       "    775),\n",
       "   'black male BB volume': 0.48269932062505133,\n",
       "   'white male BB volume': 0.566466208302958}},\n",
       " ('black male',\n",
       "  'black male'): {'identity': {'intersections': (271925, 931, 931),\n",
       "   'black male BB volume': 0.02561782188811023}, 'double': {'intersections': (232201,\n",
       "    931,\n",
       "    931),\n",
       "   'black male BB volume': 0.02351765763826616}, 'PCA': {'intersections': (371423,\n",
       "    931,\n",
       "    931),\n",
       "   'black male BB volume': 0.2319127415104876}, 'PCA_1': {'intersections': (218659,\n",
       "    931,\n",
       "    931),\n",
       "   'black male BB volume': 0.1055339321742104}, 'mean': {'intersections': (271925,\n",
       "    931,\n",
       "    931),\n",
       "   'black male BB volume': 0.02561782188811019}, 'cheby': {'intersections': (428167,\n",
       "    931,\n",
       "    931),\n",
       "   'black male BB volume': 0.4352955879529755}}}"
      ]
     },
     "execution_count": 35,
     "metadata": {},
     "output_type": "execute_result"
    }
   ],
   "source": [
    "stats"
   ]
  },
  {
   "cell_type": "code",
   "execution_count": null,
   "id": "7c4ee895",
   "metadata": {},
   "outputs": [],
   "source": []
  }
 ],
 "metadata": {
  "kernelspec": {
   "display_name": "Python 3 (ipykernel)",
   "language": "python",
   "name": "python3"
  },
  "language_info": {
   "codemirror_mode": {
    "name": "ipython",
    "version": 3
   },
   "file_extension": ".py",
   "mimetype": "text/x-python",
   "name": "python",
   "nbconvert_exporter": "python",
   "pygments_lexer": "ipython3",
   "version": "3.11.4"
  }
 },
 "nbformat": 4,
 "nbformat_minor": 5
}
